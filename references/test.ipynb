{
 "cells": [
  {
   "cell_type": "code",
   "execution_count": 16,
   "metadata": {},
   "outputs": [],
   "source": [
    "from typing import Dict, Optional \n",
    "from urllib.parse import urlparse\n",
    "import re\n",
    "import os\n",
    "from googleapiclient.discovery import build\n",
    "from datetime import datetime\n",
    "import isodate\n",
    "from dotenv import load_dotenv\n",
    "import requests\n",
    "from bs4 import BeautifulSoup\n",
    "import pandas as pd\n",
    "import json"
   ]
  },
  {
   "cell_type": "code",
   "execution_count": 113,
   "metadata": {},
   "outputs": [],
   "source": [
    "def message(text):\n",
    "    try:\n",
    "        response = requests.post(\n",
    "            url=\"https://openrouter.ai/api/v1/chat/completions\",\n",
    "            headers={\n",
    "                \"Authorization\": f\"Bearer {os.getenv('OPENROUTER_API_KEY')}\",\n",
    "            },\n",
    "            data=json.dumps({\n",
    "                # \"model\": \"google/gemini-2.0-flash-exp:free\",\n",
    "                \"model\": \"minimax/minimax-01\",\n",
    "                \"messages\": [\n",
    "                    {\n",
    "                        \"role\": \"user\",\n",
    "                        \"content\": (text)\n",
    "                    }\n",
    "                ]\n",
    "                \n",
    "            })\n",
    "        )\n",
    "        if response.status_code == 200:\n",
    "            data = response.json()\n",
    "            return data['choices'][0]['message']['content']\n",
    "        else:\n",
    "            print(f\"Error: {response.status_code}\")\n",
    "    except Exception as e:\n",
    "        print(f\"Error: {e}\")"
   ]
  },
  {
   "cell_type": "code",
   "execution_count": 111,
   "metadata": {},
   "outputs": [],
   "source": [
    "def llm_parser(url):\n",
    "    headers = {\n",
    "        'User-Agent': 'Mozilla/5.0 (Windows NT 10.0; Win64; x64) AppleWebKit/537.36 (KHTML, like Gecko) Chrome/91.0.4472.124 Safari/537.36',\n",
    "        'Accept': 'text/html,application/xhtml+xml,application/xml;q=0.9,image/webp,*/*;q=0.8'\n",
    "    }\n",
    "    response = requests.get(url, headers=headers)\n",
    "    html_content = response.text\n",
    "    soup = BeautifulSoup(html_content, 'html.parser')\n",
    "    prompt = f\"\"\"Analyze this web content snippet and return JSON with:\n",
    "    - title (most prominent heading)\n",
    "    - author (personal or organizational)\n",
    "    - date (prioritize publication dates in YYYY-MM-DD format)\n",
    "    - source_organization (publisher/site owner)\n",
    "    \n",
    "    RESPOND WITH ONLY THE JSON AND NOTHING ELSE\n",
    "    \n",
    "    Content: {soup.prettify()}\"\"\"\n",
    "    answer = message(prompt)\n",
    "    print(answer)\n",
    "    json_answer = parse_reference(answer)\n",
    "    return json_answer"
   ]
  },
  {
   "cell_type": "code",
   "execution_count": 117,
   "metadata": {},
   "outputs": [
    {
     "name": "stdout",
     "output_type": "stream",
     "text": [
      "Response: <Response [200]>\n",
      "```json\n",
      "{\n",
      "  \"title\": \"About Cyanoacrylate Adhesives\",\n",
      "  \"author\": \"Permabond\",\n",
      "  \"date\": \"2025-01-04T07:00:30+00:00\",\n",
      "  \"source_organization\": \"Permabond\"\n",
      "}\n",
      "```\n"
     ]
    },
    {
     "data": {
      "text/plain": [
       "{'title': 'About Cyanoacrylate Adhesives',\n",
       " 'author': 'Permabond',\n",
       " 'date': '2025-01-04T07:00:30+00:00',\n",
       " 'source_organization': 'Permabond'}"
      ]
     },
     "execution_count": 117,
     "metadata": {},
     "output_type": "execute_result"
    }
   ],
   "source": [
    "# link = \"https://pubmed.ncbi.nlm.nih.gov/2315679/\"\n",
    "# DOESN'T WORKlink = \"https://academic.oup.com/afraf/article/107/427/157/30448\"\n",
    "link = \"https://permabond.com/products/cyanoacrylate-adhesives/\"\n",
    "llm_parser(link)"
   ]
  },
  {
   "cell_type": "code",
   "execution_count": 47,
   "metadata": {},
   "outputs": [
    {
     "name": "stdout",
     "output_type": "stream",
     "text": [
      "Cosmological Significance of Time Reversal\n"
     ]
    }
   ],
   "source": [
    "import json\n",
    "\n",
    "def parse_reference(text):\n",
    "    # Find the JSON content between the triple backticks\n",
    "    json_start = text.find('```json\\n') + 8  # Skip past ```json\\n\n",
    "    json_end = text.find('```', json_start)\n",
    "    json_str = text[json_start:json_end].strip()\n",
    "    \n",
    "    # Parse the JSON string into a Python dictionary\n",
    "    return json.loads(json_str)\n",
    "\n",
    "# Example usage:\n",
    "with open('response.txt', 'r') as f:\n",
    "    content = f.read()\n",
    "    reference_data = parse_reference(content)\n",
    "\n",
    "# Now reference_data is a Python dictionary\n",
    "print(reference_data['title'])  # Prints: Cosmological Significance of Time Reversal"
   ]
  },
  {
   "cell_type": "code",
   "execution_count": 118,
   "metadata": {},
   "outputs": [
    {
     "name": "stderr",
     "output_type": "stream",
     "text": [
      "Token indices sequence length is longer than the specified maximum sequence length for this model (56765 > 1024). Running this sequence through the model will result in indexing errors\n"
     ]
    },
    {
     "name": "stdout",
     "output_type": "stream",
     "text": [
      "Number of tokens: 56765\n"
     ]
    }
   ],
   "source": [
    "from transformers import AutoTokenizer\n",
    "\n",
    "# Initialize a tokenizer (GPT-2's tokenizer is commonly used for estimation)\n",
    "tokenizer = AutoTokenizer.from_pretrained(\"gpt2\")\n",
    "\n",
    "# Get the prettified HTML\n",
    "html_text = soup.prettify()\n",
    "\n",
    "# Count tokens\n",
    "tokens = tokenizer.encode(html_text)\n",
    "token_count = len(tokens)\n",
    "\n",
    "print(f\"Number of tokens: {token_count}\")"
   ]
  },
  {
   "cell_type": "code",
   "execution_count": null,
   "metadata": {},
   "outputs": [],
   "source": []
  }
 ],
 "metadata": {
  "kernelspec": {
   "display_name": "base",
   "language": "python",
   "name": "python3"
  },
  "language_info": {
   "codemirror_mode": {
    "name": "ipython",
    "version": 3
   },
   "file_extension": ".py",
   "mimetype": "text/x-python",
   "name": "python",
   "nbconvert_exporter": "python",
   "pygments_lexer": "ipython3",
   "version": "3.12.4"
  }
 },
 "nbformat": 4,
 "nbformat_minor": 2
}
